{
  "nbformat": 4,
  "nbformat_minor": 0,
  "metadata": {
    "colab": {
      "name": "Hadoop & Spark Solution.ipynb",
      "provenance": [],
      "collapsed_sections": []
    },
    "kernelspec": {
      "name": "python3",
      "display_name": "Python 3"
    },
    "language_info": {
      "name": "python"
    }
  },
  "cells": [
    {
      "cell_type": "code",
      "source": [
        "pip install pyspark"
      ],
      "metadata": {
        "colab": {
          "base_uri": "https://localhost:8080/"
        },
        "id": "IdG3YfZQCgUV",
        "outputId": "722eb406-a62c-4da3-8ccc-b7cb40e4087b"
      },
      "execution_count": null,
      "outputs": [
        {
          "output_type": "stream",
          "name": "stdout",
          "text": [
            "Looking in indexes: https://pypi.org/simple, https://us-python.pkg.dev/colab-wheels/public/simple/\n",
            "Requirement already satisfied: pyspark in /usr/local/lib/python3.7/dist-packages (3.2.1)\n",
            "Requirement already satisfied: py4j==0.10.9.3 in /usr/local/lib/python3.7/dist-packages (from pyspark) (0.10.9.3)\n"
          ]
        }
      ]
    },
    {
      "cell_type": "code",
      "source": [
        "# Import necessary libraries\n",
        "import pyspark\n",
        "from pyspark.sql import SparkSession\n",
        "from pyspark.sql import Row\n",
        "import numpy as np\n",
        "import pandas as pd\n",
        "import matplotlib.pyplot as plt\n",
        "from pyspark.ml.feature import VectorAssembler\n",
        "from pyspark.ml.stat import Correlation\n",
        "from pyspark.mllib.stat import Statistics\n",
        "appName= \"hive_pyspark\"\n",
        "master= \"local\""
      ],
      "metadata": {
        "id": "GqD0bBG5Y_nV"
      },
      "execution_count": null,
      "outputs": []
    },
    {
      "cell_type": "code",
      "source": [
        "spark = SparkSession.builder.master(master).appName(appName).enableHiveSupport().getOrCreate()"
      ],
      "metadata": {
        "id": "hZQeLYf-ZIWW"
      },
      "execution_count": null,
      "outputs": []
    },
    {
      "cell_type": "code",
      "source": [
        "# Show DataBases\n",
        "df = spark.sql(\"show databases\")\n",
        "df.show()"
      ],
      "metadata": {
        "colab": {
          "base_uri": "https://localhost:8080/"
        },
        "id": "uu5zi-ypZJEq",
        "outputId": "471964b1-2b4a-4eeb-bfef-6e777bf4942a"
      },
      "execution_count": null,
      "outputs": [
        {
          "output_type": "stream",
          "name": "stdout",
          "text": [
            "+---------+\n",
            "|namespace|\n",
            "+---------+\n",
            "|  default|\n",
            "+---------+\n",
            "\n"
          ]
        }
      ]
    },
    {
      "cell_type": "code",
      "source": [
        "# Converting csv file to hive table\n",
        "datafile = spark.read.csv(\"/content/boston.csv\",header=True)\n",
        "datafile.show(5)\n",
        "datafile.write.saveAsTable(\"boston\")"
      ],
      "metadata": {
        "colab": {
          "base_uri": "https://localhost:8080/"
        },
        "id": "ZFTnK-3oZLCm",
        "outputId": "d9e41056-aa36-4095-8bac-08a749357270"
      },
      "execution_count": null,
      "outputs": [
        {
          "output_type": "stream",
          "name": "stdout",
          "text": [
            "+-----------+---+-----------+----+-----------+-----------+-----------+-----------+---+---+-----------+-----------+-----------+-----------+\n",
            "|       CRIM| ZN|      INDUS|CHAS|        NOX|         RM|        AGE|        DIS|RAD|TAX|         PT|          B|      LSTAT|         MV|\n",
            "+-----------+---+-----------+----+-----------+-----------+-----------+-----------+---+---+-----------+-----------+-----------+-----------+\n",
            "|    0.00632| 18|2.309999943|   0|0.537999988|6.574999809|65.19999695|4.090000153|  1|296|15.30000019|396.8999939|4.980000019|         24|\n",
            "|0.027310001|  0|7.070000172|   0|0.469000012|6.421000004|78.90000153|4.967100143|  2|242|17.79999924|396.8999939|9.140000343|21.60000038|\n",
            "|    0.02729|  0|7.070000172|   0|0.469000012|7.184999943|61.09999847|4.967100143|  2|242|17.79999924|392.8299866| 4.03000021|34.70000076|\n",
            "|0.032370001|  0|2.180000067|   0|0.458000004|6.998000145|45.79999924|6.062200069|  3|222|18.70000076|394.6300049|2.940000057|33.40000153|\n",
            "|0.069049999|  0|2.180000067|   0|0.458000004|7.146999836|54.20000076|6.062200069|  3|222|18.70000076|396.8999939|5.329999924|36.20000076|\n",
            "+-----------+---+-----------+----+-----------+-----------+-----------+-----------+---+---+-----------+-----------+-----------+-----------+\n",
            "only showing top 5 rows\n",
            "\n"
          ]
        }
      ]
    },
    {
      "cell_type": "code",
      "source": [
        "# DataFrame Created by fetching data from  botson hive table\n",
        "\n",
        "df= spark.sql(\"select * from boston\")\n",
        "df.show()"
      ],
      "metadata": {
        "colab": {
          "base_uri": "https://localhost:8080/"
        },
        "id": "qJidtvg9ZONl",
        "outputId": "18feb920-b77d-4e10-f681-4a626b9c7aff"
      },
      "execution_count": null,
      "outputs": [
        {
          "output_type": "stream",
          "name": "stdout",
          "text": [
            "+-----------+----+-----------+----+-----------+-----------+-----------+-----------+---+---+-----------+-----------+-----------+-----------+\n",
            "|       CRIM|  ZN|      INDUS|CHAS|        NOX|         RM|        AGE|        DIS|RAD|TAX|         PT|          B|      LSTAT|         MV|\n",
            "+-----------+----+-----------+----+-----------+-----------+-----------+-----------+---+---+-----------+-----------+-----------+-----------+\n",
            "|    0.00632|  18|2.309999943|   0|0.537999988|6.574999809|65.19999695|4.090000153|  1|296|15.30000019|396.8999939|4.980000019|         24|\n",
            "|0.027310001|   0|7.070000172|   0|0.469000012|6.421000004|78.90000153|4.967100143|  2|242|17.79999924|396.8999939|9.140000343|21.60000038|\n",
            "|    0.02729|   0|7.070000172|   0|0.469000012|7.184999943|61.09999847|4.967100143|  2|242|17.79999924|392.8299866| 4.03000021|34.70000076|\n",
            "|0.032370001|   0|2.180000067|   0|0.458000004|6.998000145|45.79999924|6.062200069|  3|222|18.70000076|394.6300049|2.940000057|33.40000153|\n",
            "|0.069049999|   0|2.180000067|   0|0.458000004|7.146999836|54.20000076|6.062200069|  3|222|18.70000076|396.8999939|5.329999924|36.20000076|\n",
            "|0.029850001|   0|2.180000067|   0|0.458000004|6.429999828|58.70000076|6.062200069|  3|222|18.70000076|394.1199951|5.210000038|28.70000076|\n",
            "|0.088289998|12.5|7.869999886|   0|0.523999989|6.012000084|66.59999847|5.560500145|  5|311|15.19999981|395.6000061|12.43000031|22.89999962|\n",
            "|0.144549996|12.5|7.869999886|   0|0.523999989|6.171999931|96.09999847|5.950500011|  5|311|15.19999981|396.8999939|19.14999962|27.10000038|\n",
            "|0.211239994|12.5|7.869999886|   0|0.523999989|5.631000042|        100|6.082099915|  5|311|15.19999981|386.6300049|29.93000031|       16.5|\n",
            "|0.170039997|12.5|7.869999886|   0|0.523999989|6.004000187|85.90000153|6.592100143|  5|311|15.19999981|386.7099915|17.10000038|18.89999962|\n",
            "|0.224889994|12.5|7.869999886|   0|0.523999989|6.376999855|94.30000305|6.346700191|  5|311|15.19999981| 392.519989|20.45000076|         15|\n",
            "|0.117470004|12.5|7.869999886|   0|0.523999989|6.008999825|82.90000153|6.226699829|  5|311|15.19999981|396.8999939|13.27000046|18.89999962|\n",
            "|0.093780003|12.5|7.869999886|   0|0.523999989|5.888999939|         39|5.450900078|  5|311|15.19999981|      390.5|15.71000004|21.70000076|\n",
            "|0.629760027|   0|8.140000343|   0|0.537999988|5.948999882|61.79999924|4.707499981|  4|307|         21|396.8999939|8.260000229|20.39999962|\n",
            "|0.637960017|   0|8.140000343|   0|0.537999988|6.096000195|       84.5|4.461900234|  4|307|         21| 380.019989|10.26000023|18.20000076|\n",
            "|0.627390027|   0|8.140000343|   0|0.537999988|5.834000111|       56.5|4.498600006|  4|307|         21|395.6199951|8.470000267|19.89999962|\n",
            "|1.053930044|   0|8.140000343|   0|0.537999988|5.934999943|29.29999924|4.498600006|  4|307|         21|386.8500061|6.579999924|23.10000038|\n",
            "|0.784200013|   0|8.140000343|   0|0.537999988|5.989999771|81.69999695|4.257900238|  4|307|         21|     386.75|14.67000008|       17.5|\n",
            "|0.802709997|   0|8.140000343|   0|0.537999988|5.455999851|36.59999847|3.796499968|  4|307|         21|288.9899902|11.68999958|20.20000076|\n",
            "|0.725799978|   0|8.140000343|   0|0.537999988|5.727000237|       69.5|3.796499968|  4|307|         21|390.9500122|11.27999973|18.20000076|\n",
            "+-----------+----+-----------+----+-----------+-----------+-----------+-----------+---+---+-----------+-----------+-----------+-----------+\n",
            "only showing top 20 rows\n",
            "\n"
          ]
        }
      ]
    },
    {
      "cell_type": "code",
      "source": [
        "# Casting all Columns to double\n",
        "from pyspark.sql.functions import col\n",
        "table = spark.sql(\"select * from boston\")\n",
        "df = table.select([col(c).cast(\"double\") for c in table.columns])"
      ],
      "metadata": {
        "id": "7v4esdNGZU8Y"
      },
      "execution_count": null,
      "outputs": []
    },
    {
      "cell_type": "code",
      "source": [
        "#prints datatype\n",
        "df.printSchema()"
      ],
      "metadata": {
        "colab": {
          "base_uri": "https://localhost:8080/"
        },
        "id": "I51vMoWcCev7",
        "outputId": "a70aeff1-971e-4cae-fedb-cdb9633082b1"
      },
      "execution_count": null,
      "outputs": [
        {
          "output_type": "stream",
          "name": "stdout",
          "text": [
            "root\n",
            " |-- CRIM: double (nullable = true)\n",
            " |-- ZN: double (nullable = true)\n",
            " |-- INDUS: double (nullable = true)\n",
            " |-- CHAS: double (nullable = true)\n",
            " |-- NOX: double (nullable = true)\n",
            " |-- RM: double (nullable = true)\n",
            " |-- AGE: double (nullable = true)\n",
            " |-- DIS: double (nullable = true)\n",
            " |-- RAD: double (nullable = true)\n",
            " |-- TAX: double (nullable = true)\n",
            " |-- PT: double (nullable = true)\n",
            " |-- B: double (nullable = true)\n",
            " |-- LSTAT: double (nullable = true)\n",
            " |-- MV: double (nullable = true)\n",
            "\n"
          ]
        }
      ]
    },
    {
      "cell_type": "code",
      "source": [
        "df.columns"
      ],
      "metadata": {
        "colab": {
          "base_uri": "https://localhost:8080/"
        },
        "id": "ox52zLtsCzGS",
        "outputId": "92b21a80-2187-43df-85ba-c30f06ed57a7"
      },
      "execution_count": null,
      "outputs": [
        {
          "output_type": "execute_result",
          "data": {
            "text/plain": [
              "['CRIM',\n",
              " 'ZN',\n",
              " 'INDUS',\n",
              " 'CHAS',\n",
              " 'NOX',\n",
              " 'RM',\n",
              " 'AGE',\n",
              " 'DIS',\n",
              " 'RAD',\n",
              " 'TAX',\n",
              " 'PT',\n",
              " 'B',\n",
              " 'LSTAT',\n",
              " 'MV']"
            ]
          },
          "metadata": {},
          "execution_count": 82
        }
      ]
    },
    {
      "cell_type": "code",
      "source": [
        "print(df.count(),len(df.columns))"
      ],
      "metadata": {
        "colab": {
          "base_uri": "https://localhost:8080/"
        },
        "id": "5LuEPoFoC05F",
        "outputId": "77a7d293-83c5-4731-9d94-d3d1fdcb5122"
      },
      "execution_count": null,
      "outputs": [
        {
          "output_type": "stream",
          "name": "stdout",
          "text": [
            "506 14\n"
          ]
        }
      ]
    },
    {
      "cell_type": "code",
      "source": [
        "from pyspark.sql.functions import *\n",
        "for i in df.columns:\n",
        "  if(i!='MV'):\n",
        "    print(i,\"vs MV\",df.stat.corr(i,'MV'))"
      ],
      "metadata": {
        "colab": {
          "base_uri": "https://localhost:8080/"
        },
        "id": "j1zl-bWtC4ue",
        "outputId": "654c8b1a-3320-45e4-e047-bccb8f883cff"
      },
      "execution_count": null,
      "outputs": [
        {
          "output_type": "stream",
          "name": "stdout",
          "text": [
            "CRIM vs MV -0.3883046116575089\n",
            "ZN vs MV 0.360445344637529\n",
            "INDUS vs MV -0.48372517128143366\n",
            "CHAS vs MV 0.1752601777529185\n",
            "NOX vs MV -0.4273207763683772\n",
            "RM vs MV 0.6953599371272672\n",
            "AGE vs MV -0.3769545671428867\n",
            "DIS vs MV 0.24992873873512172\n",
            "RAD vs MV -0.38162623156691683\n",
            "TAX vs MV -0.46853593528654536\n",
            "PT vs MV -0.5077867038116086\n",
            "B vs MV 0.3334608226834165\n",
            "LSTAT vs MV -0.7376627294671615\n"
          ]
        }
      ]
    },
    {
      "cell_type": "code",
      "source": [
        "from pyspark.ml.linalg import Vectors\n",
        "from pyspark.ml.feature import VectorAssembler\n",
        "#creating vectors from features\n",
        "#Apache MLlib takes input in vector form\n",
        "assembler=VectorAssembler(inputCols=['CRIM',\n",
        " 'ZN',\n",
        " 'INDUS',\n",
        " 'CHAS',\n",
        " 'NOX',\n",
        " 'RM',\n",
        " 'AGE',\n",
        " 'DIS',\n",
        " 'RAD',\n",
        " 'TAX',\n",
        " 'PT',\n",
        " 'B',\n",
        " 'LSTAT'],outputCol='features')\n",
        "output=assembler.transform(df)\n",
        "output.select('features','MV').show(5)"
      ],
      "metadata": {
        "colab": {
          "base_uri": "https://localhost:8080/"
        },
        "id": "SFX97zC9FtvW",
        "outputId": "833e8f98-a2af-4e81-ccd5-00c5d5008cb6"
      },
      "execution_count": null,
      "outputs": [
        {
          "output_type": "stream",
          "name": "stdout",
          "text": [
            "+--------------------+-----------+\n",
            "|            features|         MV|\n",
            "+--------------------+-----------+\n",
            "|[0.00632,18.0,2.3...|       24.0|\n",
            "|[0.027310001,0.0,...|21.60000038|\n",
            "|[0.02729,0.0,7.07...|34.70000076|\n",
            "|[0.032370001,0.0,...|33.40000153|\n",
            "|[0.069049999,0.0,...|36.20000076|\n",
            "+--------------------+-----------+\n",
            "only showing top 5 rows\n",
            "\n"
          ]
        }
      ]
    },
    {
      "cell_type": "code",
      "source": [
        "#final data consist of features and label which is crew.\n",
        "final_data=output.select('features','MV')\n",
        "#splitting data into train and test\n",
        "train_data,test_data=final_data.randomSplit([0.7,0.3])\n",
        "train_data.describe().show()"
      ],
      "metadata": {
        "colab": {
          "base_uri": "https://localhost:8080/"
        },
        "id": "DtMlxuUuHZuG",
        "outputId": "133acd83-063b-4a07-9f7e-7b6b3e267b1d"
      },
      "execution_count": null,
      "outputs": [
        {
          "output_type": "stream",
          "name": "stdout",
          "text": [
            "+-------+------------------+\n",
            "|summary|                MV|\n",
            "+-------+------------------+\n",
            "|  count|               349|\n",
            "|   mean|22.676217837392553|\n",
            "| stddev| 9.196703081653078|\n",
            "|    min|               5.0|\n",
            "|    max|              50.0|\n",
            "+-------+------------------+\n",
            "\n"
          ]
        }
      ]
    },
    {
      "cell_type": "code",
      "source": [
        "test_data.describe().show()"
      ],
      "metadata": {
        "colab": {
          "base_uri": "https://localhost:8080/"
        },
        "id": "ms1eV4OrHnTi",
        "outputId": "860393fa-e9fe-45ea-cc32-389e2b5fa4a3"
      },
      "execution_count": null,
      "outputs": [
        {
          "output_type": "stream",
          "name": "stdout",
          "text": [
            "+-------+-----------------+\n",
            "|summary|               MV|\n",
            "+-------+-----------------+\n",
            "|  count|              157|\n",
            "|   mean|22.21401270178344|\n",
            "| stddev|9.219387669617026|\n",
            "|    min|              5.0|\n",
            "|    max|             50.0|\n",
            "+-------+-----------------+\n",
            "\n"
          ]
        }
      ]
    },
    {
      "cell_type": "code",
      "source": [
        "from pyspark.ml.regression import LinearRegression\n",
        "LRmodel=LinearRegression(featuresCol='features',labelCol='MV')\n",
        "#pass train_data to train model\n",
        "training=LRmodel.fit(train_data)"
      ],
      "metadata": {
        "id": "EPR0xIRXH8Vl"
      },
      "execution_count": null,
      "outputs": []
    },
    {
      "cell_type": "code",
      "source": [
        "data = test_data.select('features')"
      ],
      "metadata": {
        "id": "3da-MnTTH-Vf"
      },
      "execution_count": null,
      "outputs": []
    },
    {
      "cell_type": "code",
      "source": [
        "predictions = training.transform(data)"
      ],
      "metadata": {
        "id": "yAL4318qICxz"
      },
      "execution_count": null,
      "outputs": []
    },
    {
      "cell_type": "code",
      "source": [
        "test_data.show()"
      ],
      "metadata": {
        "colab": {
          "base_uri": "https://localhost:8080/"
        },
        "id": "TJLot4aJID7Y",
        "outputId": "957df29f-b856-420e-b005-2888e765197c"
      },
      "execution_count": null,
      "outputs": [
        {
          "output_type": "stream",
          "name": "stdout",
          "text": [
            "+--------------------+-----------+\n",
            "|            features|         MV|\n",
            "+--------------------+-----------+\n",
            "|[0.00632,18.0,2.3...|       24.0|\n",
            "|[0.01096,55.0,2.2...|       22.0|\n",
            "|[0.01311,90.0,1.2...|35.40000153|\n",
            "|[0.0136,75.0,4.0,...|18.89999962|\n",
            "|[0.01439,60.0,2.9...|29.10000038|\n",
            "|[0.01501,90.0,1.2...|       50.0|\n",
            "|[0.0187,85.0,4.15...|23.10000038|\n",
            "|[0.02177,82.5,2.0...|42.29999924|\n",
            "|[0.02899,40.0,1.2...|26.60000038|\n",
            "|[0.031129999,0.0,...|       17.5|\n",
            "|[0.033059999,0.0,...|20.60000038|\n",
            "|[0.03548,80.0,3.6...|20.89999962|\n",
            "|[0.035840001,80.0...|       23.5|\n",
            "|[0.036150001,80.0...|27.89999962|\n",
            "|[0.03768,80.0,1.5...|34.59999847|\n",
            "|[0.040109999,80.0...|33.29999924|\n",
            "|[0.043370001,21.0...|       20.5|\n",
            "|[0.04417,70.0,2.2...|24.79999924|\n",
            "|[0.04462,25.0,4.8...|23.89999962|\n",
            "|[0.045899998,52.5...|22.29999924|\n",
            "+--------------------+-----------+\n",
            "only showing top 20 rows\n",
            "\n"
          ]
        }
      ]
    },
    {
      "cell_type": "code",
      "source": [
        "predictions.show()"
      ],
      "metadata": {
        "colab": {
          "base_uri": "https://localhost:8080/"
        },
        "id": "mp7TeLJLIFZe",
        "outputId": "c340f095-05e4-4938-deba-835146400897"
      },
      "execution_count": null,
      "outputs": [
        {
          "output_type": "stream",
          "name": "stdout",
          "text": [
            "+--------------------+------------------+\n",
            "|            features|        prediction|\n",
            "+--------------------+------------------+\n",
            "|[0.00632,18.0,2.3...| 30.64954201260531|\n",
            "|[0.01096,55.0,2.2...| 27.63945317798794|\n",
            "|[0.01311,90.0,1.2...|31.179826334096525|\n",
            "|[0.0136,75.0,4.0,...|15.760746983349105|\n",
            "|[0.01439,60.0,2.9...|31.830746531224875|\n",
            "|[0.01501,90.0,1.2...| 45.11363531591966|\n",
            "|[0.0187,85.0,4.15...|25.409066864608896|\n",
            "|[0.02177,82.5,2.0...| 37.07958727310088|\n",
            "|[0.02899,40.0,1.2...|22.082847986903484|\n",
            "|[0.031129999,0.0,...|16.457553703395345|\n",
            "|[0.033059999,0.0,...| 22.06974614342972|\n",
            "|[0.03548,80.0,3.6...|21.907115668667203|\n",
            "|[0.035840001,80.0...|30.688532333501918|\n",
            "|[0.036150001,80.0...| 32.19356624986632|\n",
            "|[0.03768,80.0,1.5...|35.025298999651206|\n",
            "|[0.040109999,80.0...|  36.4566486325125|\n",
            "|[0.043370001,21.0...|24.352143511776603|\n",
            "|[0.04417,70.0,2.2...|31.152890732693677|\n",
            "|[0.04462,25.0,4.8...|27.547444165111383|\n",
            "|[0.045899998,52.5...|27.487850803665914|\n",
            "+--------------------+------------------+\n",
            "only showing top 20 rows\n",
            "\n"
          ]
        }
      ]
    },
    {
      "cell_type": "code",
      "source": [
        "#evaluating model trained for Rsquared error\n",
        "train_res=training.evaluate(train_data)\n",
        "print('Train Score (R2) :',train_res.r2)\n",
        "test_res=training.evaluate(test_data)\n",
        "print('Test Score (R2) :',test_res.r2)"
      ],
      "metadata": {
        "colab": {
          "base_uri": "https://localhost:8080/"
        },
        "id": "IlaiVoRiIHUK",
        "outputId": "5c5d40b2-3ef4-4b04-9d0c-2cbcae355068"
      },
      "execution_count": null,
      "outputs": [
        {
          "output_type": "stream",
          "name": "stdout",
          "text": [
            "Train Score (R2) : 0.7399772475767292\n",
            "Test Score (R2) : 0.7287776303572815\n"
          ]
        }
      ]
    },
    {
      "cell_type": "code",
      "source": [
        "#evaluating model trained for RMSE \n",
        "train_res=training.evaluate(train_data)\n",
        "print('Train Score (RMSE) :',train_res.rootMeanSquaredError)\n",
        "test_res=training.evaluate(test_data)\n",
        "print('Test Score (RMSE) :',test_res.rootMeanSquaredError)"
      ],
      "metadata": {
        "colab": {
          "base_uri": "https://localhost:8080/"
        },
        "id": "_ltjj3UHILf3",
        "outputId": "fa4f7ce9-73a8-4be7-8807-176e0ab374e9"
      },
      "execution_count": null,
      "outputs": [
        {
          "output_type": "stream",
          "name": "stdout",
          "text": [
            "Train Score (RMSE) : 4.682898550861255\n",
            "Test Score (RMSE) : 4.786050791032814\n"
          ]
        }
      ]
    },
    {
      "cell_type": "code",
      "source": [
        ""
      ],
      "metadata": {
        "id": "RYFyKKeJJ5Oq"
      },
      "execution_count": null,
      "outputs": []
    }
  ]
}